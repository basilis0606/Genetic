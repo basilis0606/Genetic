{
 "cells": [
  {
   "attachments": {},
   "cell_type": "markdown",
   "metadata": {},
   "source": [
    "## Κωδικοποίηση: "
   ]
  },
  {
   "attachments": {},
   "cell_type": "markdown",
   "metadata": {},
   "source": [
    "Να προτείνετε μια κωδικοποίηση για τα άτομα του πληθυσμού. Λάβετε\n",
    "υπόψη τα παρακάτω:\n",
    "i.\n",
    " Ένα άτομο αναπαριστά ένα διάνυσμα που αντιστοιχεί στις τιμές των 4 αισθητήρων που\n",
    "φέρει το ρομπότ (συνολικά 12 τιμές - δεν είναι ανάγκη να χρησιμοποιήσουμε και τις 12).\n",
    "ii.\n",
    "Το εύρος των τιμών αυτών ενδέχεται να επηρεάσει τις μετρικές ομοιότητας και τη\n",
    "συνάρτηση καταλληλότητας που θα χρησιμοποιήσετε παρακάτω. Προτείνεται η χρήση\n",
    "προεπεξεργασίας/κανονικοποίησης όπως κάνατε στο Α."
   ]
  },
  {
   "cell_type": "code",
   "execution_count": 139,
   "metadata": {},
   "outputs": [
    {
     "data": {
      "text/html": [
       "<div>\n",
       "<style scoped>\n",
       "    .dataframe tbody tr th:only-of-type {\n",
       "        vertical-align: middle;\n",
       "    }\n",
       "\n",
       "    .dataframe tbody tr th {\n",
       "        vertical-align: top;\n",
       "    }\n",
       "\n",
       "    .dataframe thead th {\n",
       "        text-align: right;\n",
       "    }\n",
       "</style>\n",
       "<table border=\"1\" class=\"dataframe\">\n",
       "  <thead>\n",
       "    <tr style=\"text-align: right;\">\n",
       "      <th></th>\n",
       "      <th>x1</th>\n",
       "      <th>y1</th>\n",
       "      <th>z1</th>\n",
       "      <th>x2</th>\n",
       "      <th>y2</th>\n",
       "      <th>z2</th>\n",
       "      <th>x3</th>\n",
       "      <th>y3</th>\n",
       "      <th>z3</th>\n",
       "      <th>x4</th>\n",
       "      <th>y4</th>\n",
       "      <th>z4</th>\n",
       "      <th>Class</th>\n",
       "    </tr>\n",
       "  </thead>\n",
       "  <tbody>\n",
       "    <tr>\n",
       "      <th>0</th>\n",
       "      <td>-3</td>\n",
       "      <td>92</td>\n",
       "      <td>-63</td>\n",
       "      <td>-23</td>\n",
       "      <td>18</td>\n",
       "      <td>-19</td>\n",
       "      <td>5</td>\n",
       "      <td>104</td>\n",
       "      <td>-92</td>\n",
       "      <td>-150</td>\n",
       "      <td>-103</td>\n",
       "      <td>-147</td>\n",
       "      <td>sitting</td>\n",
       "    </tr>\n",
       "    <tr>\n",
       "      <th>1</th>\n",
       "      <td>-3</td>\n",
       "      <td>94</td>\n",
       "      <td>-64</td>\n",
       "      <td>-21</td>\n",
       "      <td>18</td>\n",
       "      <td>-18</td>\n",
       "      <td>-14</td>\n",
       "      <td>104</td>\n",
       "      <td>-90</td>\n",
       "      <td>-149</td>\n",
       "      <td>-104</td>\n",
       "      <td>-145</td>\n",
       "      <td>sitting</td>\n",
       "    </tr>\n",
       "    <tr>\n",
       "      <th>2</th>\n",
       "      <td>-1</td>\n",
       "      <td>97</td>\n",
       "      <td>-61</td>\n",
       "      <td>-12</td>\n",
       "      <td>20</td>\n",
       "      <td>-15</td>\n",
       "      <td>-13</td>\n",
       "      <td>104</td>\n",
       "      <td>-90</td>\n",
       "      <td>-151</td>\n",
       "      <td>-104</td>\n",
       "      <td>-144</td>\n",
       "      <td>sitting</td>\n",
       "    </tr>\n",
       "    <tr>\n",
       "      <th>3</th>\n",
       "      <td>-2</td>\n",
       "      <td>96</td>\n",
       "      <td>-57</td>\n",
       "      <td>-15</td>\n",
       "      <td>21</td>\n",
       "      <td>-16</td>\n",
       "      <td>-13</td>\n",
       "      <td>104</td>\n",
       "      <td>-89</td>\n",
       "      <td>-153</td>\n",
       "      <td>-103</td>\n",
       "      <td>-142</td>\n",
       "      <td>sitting</td>\n",
       "    </tr>\n",
       "    <tr>\n",
       "      <th>4</th>\n",
       "      <td>-1</td>\n",
       "      <td>96</td>\n",
       "      <td>-61</td>\n",
       "      <td>-13</td>\n",
       "      <td>20</td>\n",
       "      <td>-15</td>\n",
       "      <td>-13</td>\n",
       "      <td>104</td>\n",
       "      <td>-89</td>\n",
       "      <td>-153</td>\n",
       "      <td>-104</td>\n",
       "      <td>-143</td>\n",
       "      <td>sitting</td>\n",
       "    </tr>\n",
       "  </tbody>\n",
       "</table>\n",
       "</div>"
      ],
      "text/plain": [
       "   x1  y1  z1  x2  y2  z2  x3   y3  z3   x4   y4   z4    Class\n",
       "0  -3  92 -63 -23  18 -19   5  104 -92 -150 -103 -147  sitting\n",
       "1  -3  94 -64 -21  18 -18 -14  104 -90 -149 -104 -145  sitting\n",
       "2  -1  97 -61 -12  20 -15 -13  104 -90 -151 -104 -144  sitting\n",
       "3  -2  96 -57 -15  21 -16 -13  104 -89 -153 -103 -142  sitting\n",
       "4  -1  96 -61 -13  20 -15 -13  104 -89 -153 -104 -143  sitting"
      ]
     },
     "execution_count": 139,
     "metadata": {},
     "output_type": "execute_result"
    }
   ],
   "source": [
    "import numpy as np\n",
    "import pandas as pd\n",
    "from sklearn.preprocessing import MinMaxScaler\n",
    "from sklearn.preprocessing import StandardScaler\n",
    "from sklearn.metrics.pairwise import cosine_similarity\n",
    "import pygad\n",
    "\n",
    "\n",
    "# Load the PUC-Rio dataset\n",
    "df = pd.read_csv('dataset-HAR-PUC-Rio.csv', delimiter=';', decimal = \",\", low_memory=False)\n",
    "\n",
    "#Maybe irrelevant columns\n",
    "df = df.drop(['user', 'gender', 'age', 'how_tall_in_meters', 'weight', 'body_mass_index'], axis=1)\n",
    "\n",
    "#Drop rows with NaN values\n",
    "df=df.dropna()\n",
    "\n",
    "\n",
    "df.describe()\n",
    "df.head()"
   ]
  },
  {
   "cell_type": "code",
   "execution_count": 140,
   "metadata": {},
   "outputs": [
    {
     "data": {
      "text/html": [
       "<div>\n",
       "<style scoped>\n",
       "    .dataframe tbody tr th:only-of-type {\n",
       "        vertical-align: middle;\n",
       "    }\n",
       "\n",
       "    .dataframe tbody tr th {\n",
       "        vertical-align: top;\n",
       "    }\n",
       "\n",
       "    .dataframe thead th {\n",
       "        text-align: right;\n",
       "    }\n",
       "</style>\n",
       "<table border=\"1\" class=\"dataframe\">\n",
       "  <thead>\n",
       "    <tr style=\"text-align: right;\">\n",
       "      <th></th>\n",
       "      <th>x1</th>\n",
       "      <th>y1</th>\n",
       "      <th>z1</th>\n",
       "      <th>x2</th>\n",
       "      <th>y2</th>\n",
       "      <th>z2</th>\n",
       "      <th>x3</th>\n",
       "      <th>y3</th>\n",
       "      <th>z3</th>\n",
       "      <th>x4</th>\n",
       "      <th>y4</th>\n",
       "      <th>z4</th>\n",
       "      <th>Class</th>\n",
       "    </tr>\n",
       "  </thead>\n",
       "  <tbody>\n",
       "    <tr>\n",
       "      <th>0</th>\n",
       "      <td>-3</td>\n",
       "      <td>92</td>\n",
       "      <td>-63</td>\n",
       "      <td>-23</td>\n",
       "      <td>18</td>\n",
       "      <td>-19</td>\n",
       "      <td>5</td>\n",
       "      <td>104</td>\n",
       "      <td>-92</td>\n",
       "      <td>-150</td>\n",
       "      <td>-103</td>\n",
       "      <td>-147</td>\n",
       "      <td>0</td>\n",
       "    </tr>\n",
       "    <tr>\n",
       "      <th>1</th>\n",
       "      <td>-3</td>\n",
       "      <td>94</td>\n",
       "      <td>-64</td>\n",
       "      <td>-21</td>\n",
       "      <td>18</td>\n",
       "      <td>-18</td>\n",
       "      <td>-14</td>\n",
       "      <td>104</td>\n",
       "      <td>-90</td>\n",
       "      <td>-149</td>\n",
       "      <td>-104</td>\n",
       "      <td>-145</td>\n",
       "      <td>0</td>\n",
       "    </tr>\n",
       "    <tr>\n",
       "      <th>2</th>\n",
       "      <td>-1</td>\n",
       "      <td>97</td>\n",
       "      <td>-61</td>\n",
       "      <td>-12</td>\n",
       "      <td>20</td>\n",
       "      <td>-15</td>\n",
       "      <td>-13</td>\n",
       "      <td>104</td>\n",
       "      <td>-90</td>\n",
       "      <td>-151</td>\n",
       "      <td>-104</td>\n",
       "      <td>-144</td>\n",
       "      <td>0</td>\n",
       "    </tr>\n",
       "    <tr>\n",
       "      <th>3</th>\n",
       "      <td>-2</td>\n",
       "      <td>96</td>\n",
       "      <td>-57</td>\n",
       "      <td>-15</td>\n",
       "      <td>21</td>\n",
       "      <td>-16</td>\n",
       "      <td>-13</td>\n",
       "      <td>104</td>\n",
       "      <td>-89</td>\n",
       "      <td>-153</td>\n",
       "      <td>-103</td>\n",
       "      <td>-142</td>\n",
       "      <td>0</td>\n",
       "    </tr>\n",
       "    <tr>\n",
       "      <th>4</th>\n",
       "      <td>-1</td>\n",
       "      <td>96</td>\n",
       "      <td>-61</td>\n",
       "      <td>-13</td>\n",
       "      <td>20</td>\n",
       "      <td>-15</td>\n",
       "      <td>-13</td>\n",
       "      <td>104</td>\n",
       "      <td>-89</td>\n",
       "      <td>-153</td>\n",
       "      <td>-104</td>\n",
       "      <td>-143</td>\n",
       "      <td>0</td>\n",
       "    </tr>\n",
       "  </tbody>\n",
       "</table>\n",
       "</div>"
      ],
      "text/plain": [
       "   x1  y1  z1  x2  y2  z2  x3   y3  z3   x4   y4   z4  Class\n",
       "0  -3  92 -63 -23  18 -19   5  104 -92 -150 -103 -147      0\n",
       "1  -3  94 -64 -21  18 -18 -14  104 -90 -149 -104 -145      0\n",
       "2  -1  97 -61 -12  20 -15 -13  104 -90 -151 -104 -144      0\n",
       "3  -2  96 -57 -15  21 -16 -13  104 -89 -153 -103 -142      0\n",
       "4  -1  96 -61 -13  20 -15 -13  104 -89 -153 -104 -143      0"
      ]
     },
     "execution_count": 140,
     "metadata": {},
     "output_type": "execute_result"
    }
   ],
   "source": [
    "from sklearn.preprocessing import LabelEncoder\n",
    "\n",
    "# Label encoding of categorical target data (Class)\n",
    "le = LabelEncoder()\n",
    "df.Class = le.fit_transform(df.Class)\n",
    "df.head()\n",
    "\n"
   ]
  },
  {
   "cell_type": "code",
   "execution_count": 141,
   "metadata": {},
   "outputs": [
    {
     "name": "stdout",
     "output_type": "stream",
     "text": [
      "Average normalized accelerometer readings for 'sitting': \n",
      "[-0.04184534 -0.93349479  1.10724424  0.17063137 -0.01514425  0.45562091\n",
      "  0.11352494 -0.29607209 -0.03319776  0.93729891 -0.86195066 -0.17624456]\n",
      "\n",
      "Average normalized accelerometer readings for other postures: \n",
      "[ 0.01842291  0.4109822  -0.48747746 -0.07512249  0.00666744 -0.20059253\n",
      " -0.0499807   0.13034926  0.01461571 -0.41265701  0.37948404  0.07759377]\n"
     ]
    }
   ],
   "source": [
    "# Select only accelerometer readings columns (assuming their names are 'x1', 'y1', ..., 'z4')\n",
    "accelerometer_cols = ['x1', 'y1', 'z1', 'x2', 'y2', 'z2', 'x3', 'y3', 'z3', 'x4', 'y4', 'z4']\n",
    "\n",
    "# Nomalization\n",
    "scaler = MinMaxScaler(feature_range=(-1, 1))\n",
    "df[accelerometer_cols] = scaler.fit_transform(df[accelerometer_cols])\n",
    "\n",
    "# Standardization\n",
    "scaler = StandardScaler()\n",
    "df[accelerometer_cols] = scaler.fit_transform(df[accelerometer_cols])\n",
    "\n",
    "# b. Isolate the \"sitting\" measurements and the measurements for other postures\n",
    "df_sitting = df[df['Class'] == 0]\n",
    "df_not_sitting = df[df['Class'] != 0]\n",
    "\n",
    "# Drop the 'Class' column from both DataFrames\n",
    "#df_sitting = df_sitting.drop('Class', axis=1)\n",
    "#df_not_sitting = df_not_sitting.drop('Class', axis=1)\n",
    "\n",
    "# c. Compute the average accelerometer readings for the \"sitting\" posture and for other postures\n",
    "average_sitting = df_sitting[accelerometer_cols].mean().to_numpy()\n",
    "average_not_sitting = df_not_sitting[accelerometer_cols].mean().to_numpy()\n",
    "\n",
    "\n",
    "\n",
    "print(\"Average normalized accelerometer readings for 'sitting': \")\n",
    "print(average_sitting)\n",
    "print(\"\\nAverage normalized accelerometer readings for other postures: \")\n",
    "print(average_not_sitting)\n",
    "\n",
    "# Save normalized dataset if needed\n",
    "df.to_csv('normalized_puc-rio-data.csv', index=False)"
   ]
  },
  {
   "attachments": {},
   "cell_type": "markdown",
   "metadata": {},
   "source": [
    "## Δ' Υπολογισμός ομοιότητας"
   ]
  },
  {
   "attachments": {},
   "cell_type": "markdown",
   "metadata": {},
   "source": [
    "Η ομοιότητα συνημιτονίου είναι συχνά μια καλή επιλογή σε χώρους υψηλών διαστάσεων, καθώς δεν επηρεάζεται από το μέγεθος των διανυσμάτων, σε αντίθεση με μετρήσεις όπως η Ευκλείδεια απόσταση. Αυτό μπορεί να είναι σημαντικό σε σενάρια όπως αυτό, όπου οι απόλυτες τιμές των μετρήσεων του αισθητήρα μπορεί να μην είναι τόσο σημαντικές όσο οι σχετικές αναλογίες μεταξύ τους."
   ]
  },
  {
   "cell_type": "code",
   "execution_count": 142,
   "metadata": {},
   "outputs": [],
   "source": [
    "# Calculate cosine similarity between two vectors\n",
    "def calculate_similarity(vector1, vector2):\n",
    "    dot_product = np.dot(vector1, vector2)\n",
    "    norm_vector1 = np.linalg.norm(vector1)\n",
    "    norm_vector2 = np.linalg.norm(vector2)\n",
    "    return dot_product / (norm_vector1 * norm_vector2)\n",
    "    return cosine_similarity([vector1], [vector2])[0][0]"
   ]
  },
  {
   "attachments": {},
   "cell_type": "markdown",
   "metadata": {},
   "source": [
    "## Συνάρτηση καταλληλότητας"
   ]
  },
  {
   "cell_type": "code",
   "execution_count": 143,
   "metadata": {},
   "outputs": [],
   "source": [
    "def fitness_function(py_gad,solution, solution_idx):\n",
    "    global average_not_sitting, average_sitting\n",
    "    c = 0.1\n",
    "    similarity_sitting = calculate_similarity(solution, average_sitting)\n",
    "    similarity_others = calculate_similarity(solution, average_not_sitting)\n",
    "\n",
    "    fitness = 1 - (similarity_sitting + c * (1 - (1/4) * similarity_others)) / (1 + c)\n",
    "    return fitness\n"
   ]
  },
  {
   "attachments": {},
   "cell_type": "markdown",
   "metadata": {},
   "source": [
    "## Early Stop"
   ]
  },
  {
   "cell_type": "code",
   "execution_count": 144,
   "metadata": {},
   "outputs": [],
   "source": [
    "def early_stopping(genetic_alg):\n",
    "    global best_fitness, stagnation, current_generation\n",
    "\n",
    "    current_best = genetic_alg.best_solution()[1]\n",
    "    current_population = genetic_alg.population\n",
    "    current_fitness = np.array([fitness_function(genetic_alg, individual, i) for i, individual in enumerate(current_population)])\n",
    "    \n",
    "    fitness_std = np.std(current_fitness)\n",
    "\n",
    "    if current_best > best_fitness:\n",
    "        best_fitness = current_best\n",
    "        stagnation = 0\n",
    "    else:\n",
    "        stagnation += 1\n",
    "\n",
    "    # Stop if there is no improvement for 10 generations or \n",
    "    # if the standard deviation of the fitness is less than a threshold\n",
    "    if stagnation == 10 or fitness_std < 0.01: \n",
    "        current_generation = genetic_alg.generations_completed\n",
    "        return \"stop\""
   ]
  },
  {
   "cell_type": "code",
   "execution_count": 145,
   "metadata": {},
   "outputs": [],
   "source": [
    "def on_generation(genetic_alg):\n",
    "    \n",
    "    current_population = genetic_alg.population\n",
    "    current_fitness = np.array([fitness_function(genetic_alg, individual, i) for i, individual in enumerate(current_population)])\n",
    "    \n",
    "    best_fitness = np.max(current_fitness)\n",
    "    worst_fitness = np.min(current_fitness)\n",
    "    mean_fitness = np.mean(current_fitness)\n",
    "    \n",
    "    evolution_best.append(best_fitness)\n",
    "    evolution_worst.append(worst_fitness)\n",
    "    evolution_mean.append(mean_fitness)\n",
    "    \n",
    "    best_fitness = genetic_alg.best_solution()[1]\n",
    "    evolution_curve.append(best_fitness)\n"
   ]
  },
  {
   "attachments": {},
   "cell_type": "markdown",
   "metadata": {},
   "source": [
    "### Try to run"
   ]
  },
  {
   "cell_type": "code",
   "execution_count": 146,
   "metadata": {},
   "outputs": [],
   "source": [
    "best_solutions = []\n",
    "best_solutions_fitness = []\n",
    "num_generations = []\n",
    "evolution_curve = []\n",
    "\n",
    "\n",
    "for i in range(10):\n",
    "    #Check for improvement or not\n",
    "    stagnation = 0\n",
    "    current_generation = 0\n",
    "    #Best fitness\n",
    "    best_fitness = 0\n",
    "    evolution_curve = []\n",
    "    evolution_best = []\n",
    "    evolution_worst = []\n",
    "    evolution_mean = []\n",
    "\n",
    "    genetic_alg = pygad.GA(num_generations=1000, \n",
    "                           num_parents_mating=100, \n",
    "                           crossover_probability= 0.1,\n",
    "                           mutation_probability=0.01,\n",
    "                           sol_per_pop=200,\n",
    "                           fitness_func=fitness_function, \n",
    "                           init_range_low=-1,\n",
    "                            init_range_high=1,\n",
    "                            num_genes=12,\n",
    "                            mutation_percent_genes=1,\n",
    "                            on_generation=on_generation,\n",
    "                            keep_parents=1) # keep the parents with the best fitness - elitism\n",
    "    genetic_alg.run()\n",
    "\n",
    "    best_solutions.append(genetic_alg.best_solution()[0])\n",
    "    best_solutions_fitness.append(genetic_alg.best_solution()[1])\n",
    "    num_generations.append(current_generation)\n",
    "    evolution_curve.append(genetic_alg.best_solution()[2])\n",
    "\n",
    "    "
   ]
  },
  {
   "attachments": {},
   "cell_type": "markdown",
   "metadata": {},
   "source": [
    "## Evaluation"
   ]
  },
  {
   "cell_type": "code",
   "execution_count": 147,
   "metadata": {},
   "outputs": [
    {
     "name": "stdout",
     "output_type": "stream",
     "text": [
      "Mean of the best solutions:  -0.03916737137605898\n",
      "Mean of the best fitness:  1.840908563026737\n",
      "Mean of the number of generations:  0.0\n"
     ]
    }
   ],
   "source": [
    "print(\"Mean of the best solutions: \", np.mean(best_solutions))\n",
    "print(\"Mean of the best fitness: \", np.mean(best_solutions_fitness))\n",
    "print(\"Mean of the number of generations: \", np.mean(num_generations))\n"
   ]
  },
  {
   "cell_type": "code",
   "execution_count": 148,
   "metadata": {},
   "outputs": [
    {
     "data": {
      "image/png": "[encoded data removed]",
      "text/plain": [
       "<Figure size 640x480 with 1 Axes>"
      ]
     },
     "metadata": {},
     "output_type": "display_data"
    }
   ],
   "source": [
    "import matplotlib.pyplot as plt\n",
    "import tensorflow as tf\n",
    "from sklearn.preprocessing import StandardScaler\n",
    "\n",
    "# Plot the average fitness value evolution\n",
    "plt.plot(evolution_curve)\n",
    "plt.title(\"Average fitness value evolution\")\n",
    "plt.xlabel(\"Generation\")\n",
    "plt.ylabel(\"Fitness\")\n",
    "plt.show()\n"
   ]
  },
  {
   "cell_type": "code",
   "execution_count": 149,
   "metadata": {},
   "outputs": [
    {
     "name": "stdout",
     "output_type": "stream",
     "text": [
      "[1.675079687979252, 1.675079687979252, 1.675079687979252, 1.7448550905066413, 1.7492513996630636, 1.7754196928311416, 1.7957949491798, 1.7957949491798, 1.8070845595730334, 1.8080219353604572, 1.816482741965645, 1.8241058796207454, 1.8294987361752422, 1.8354155950901407, 1.8354155950901407, 1.8371232825901926, 1.8371232825901926, 1.8371232825901926, 1.8371232825901926, 1.8371232825901926, 1.8371232825901926, 1.837775795815627, 1.837792805584841, 1.837792805584841, 1.838155645512531, 1.8385881798525112, 1.839269005155316, 1.839616224746254, 1.839616224746254, 1.8397706513580099, 1.8398228349088424, 1.8398228349088424, 1.8398228349088424, 1.8398229558824397, 1.8398229558824397, 1.8398229558824397, 1.8398308174113969, 1.8399833144967837, 1.8399833144967837, 1.8399833144967837, 1.8399833144967837, 1.8399833144967837, 1.8399833144967837, 1.8399833144967837, 1.8399833144967837, 1.8399890609979925, 1.840022170093238, 1.840022170093238, 1.840022170093238, 1.8400316324706987, 1.8400518792175196, 1.8402809217019982, 1.8403122338202846, 1.8403122338202846, 1.8403122338202846, 1.8403303977600143, 1.8403503175877254, 1.8403503175877254, 1.8403503175877254, 1.8406560574275774, 1.8406560574275774, 1.8406560574275774, 1.8406560574275774, 1.8406560574275774, 1.8406560574275774, 1.8406602572486874, 1.8406602572486874, 1.8406602572486874, 1.8406711861974772, 1.8406772439780736, 1.8406772439780736, 1.840682837435597, 1.840682837435597, 1.840682837435597, 1.840682837435597, 1.8406902920351436, 1.8406902920351436, 1.8406902920351436, 1.8406902920351436, 1.8406902920351436, 1.8406902920351436, 1.8406902920351436, 1.8406902920351436, 1.8406902920351436, 1.8406902920351436, 1.8406902920351436, 1.8406902920351436, 1.8406902920351436, 1.8406902920351436, 1.8406902920351436, 1.8406902920351436, 1.8406902920351436, 1.8406902920351436, 1.8406902920351436, 1.8406902920351436, 1.8406902920351436, 1.8406902920351436, 1.8406902920351436, 1.8406902920351436, 1.8406902920351436, 1.8406902920351436, 1.8406902920351436, 1.8406902920351436, 1.8406902920351436, 1.8406902920351436, 1.8406902920351436, 1.8406902920351436, 1.8406902920351436, 1.8406902920351436, 1.8406902920351436, 1.8406902920351436, 1.8406902920351436, 1.8406902920351436, 1.8406902920351436, 1.8407434412844372, 1.8407434412844372, 1.8407434412844372, 1.8407434412844372, 1.8407434412844372, 1.8407434412844372, 1.8407434412844372, 1.8407687024129091, 1.8407687024129091, 1.8407687024129091, 1.8407687024129091, 1.8407871849214923, 1.8407871849214923, 1.8407871849214923, 1.8407871849214923, 1.8407871849214923, 1.8407871849214923, 1.8407942215616035, 1.8407942215616035, 1.8407942215616035, 1.8407942215616035, 1.8407942215616035, 1.8407942215616035, 1.8408218150285514, 1.8408218150285514, 1.8408218150285514, 1.8408218150285514, 1.8408218150285514, 1.8408218150285514, 1.8408218150285514, 1.8408218150285514, 1.8408218150285514, 1.8408218150285514, 1.8408218150285514, 1.8408218150285514, 1.8408218150285514, 1.8408218150285514, 1.8408218150285514, 1.8408218150285514, 1.8408218150285514, 1.8408218150285514, 1.8408218150285514, 1.8408218150285514, 1.8408218150285514, 1.8408218150285514, 1.8408218150285514, 1.8408218150285514, 1.8408218150285514, 1.8408218150285514, 1.8408218150285514, 1.8408218150285514, 1.8408218150285514, 1.8408218150285514, 1.8408218150285514, 1.8408218150285514, 1.8408218150285514, 1.8408218150285514, 1.8408218150285514, 1.8408218150285514, 1.8408218150285514, 1.8408218150285514, 1.8408600108339694, 1.8408600108339694, 1.8408600108339694, 1.8408600108339694, 1.8408600108339694, 1.8408600108339694, 1.8408600108339694, 1.8408600108339694, 1.8408600108339694, 1.8408600108339694, 1.8408600108339694, 1.8408600108339694, 1.8408600108339694, 1.8408600108339694, 1.8408600108339694, 1.8408600108339694, 1.8408600108339694, 1.8408600108339694, 1.8408600108339694, 1.8408600108339694, 1.8408600108339694, 1.8408600108339694, 1.8408600108339694, 1.8408600108339694, 1.8408600108339694, 1.8408600108339694, 1.8408600108339694, 1.8408600108339694, 1.8408600108339694, 1.8408600108339694, 1.8408600108339694, 1.8408600108339694, 1.8408600108339694, 1.8408600108339694, 1.8408600108339694, 1.8408600108339694, 1.8408600108339694, 1.8408600108339694, 1.8408600108339694, 1.8408600108339694, 1.8408600108339694, 1.8408600108339694, 1.8408600108339694, 1.840868548955879, 1.840868548955879, 1.840868548955879, 1.840868548955879, 1.840868548955879, 1.840868548955879, 1.8408693743899809, 1.8408693743899809, 1.8408779138352318, 1.8408779138352318, 1.8408779138352318, 1.8408779138352318, 1.8408779138352318, 1.8408779138352318, 1.8408823508435812, 1.8408823508435812, 1.8408823508435812, 1.8408823508435812, 1.8408823508435812, 1.8408823508435812, 1.8408823508435812, 1.8408823508435812, 1.8408823508435812, 1.8408823508435812, 1.8408823508435812, 1.8408823508435812, 1.8408823508435812, 1.8408823508435812, 1.8408823508435812, 1.8408823508435812, 1.8408823508435812, 1.8408823508435812, 1.8408823508435812, 1.8408823508435812, 1.840883408984558, 1.840883408984558, 1.840883408984558, 1.8408844564751639, 1.8408906658078177, 1.8408906658078177, 1.8408906658078177, 1.8408917945209895, 1.8408917945209895, 1.8408917945209895, 1.8408928493316727, 1.8408928493316727, 1.8408928493316727, 1.8408928493316727, 1.8408928493316727, 1.8408928493316727, 1.8408928493316727, 1.8408928493316727, 1.8408928493316727, 1.8408928493316727, 1.8408928493316727, 1.8408928493316727, 1.8408928493316727, 1.8408928493316727, 1.8408928493316727, 1.8408928493316727, 1.8408928493316727, 1.8408928493316727, 1.8408928493316727, 1.8408928493316727, 1.8408950972193139, 1.8408950972193139, 1.8408950972193139, 1.8408950972193139, 1.8408950972193139, 1.8408950972193139, 1.8408950972193139, 1.8408950972193139, 1.8408950972193139, 1.8408950972193139, 1.8408950972193139, 1.8408950972193139, 1.8408950972193139, 1.8408950972193139, 1.8408950972193139, 1.8408950972193139, 1.8408950972193139, 1.8408950972193139, 1.8408950972193139, 1.8408950972193139, 1.8408950972193139, 1.8408950972193139, 1.8408950972193139, 1.8408950972193139, 1.840896542522563, 1.840896542522563, 1.840896542522563, 1.840896542522563, 1.840896542522563, 1.840896542522563, 1.840896542522563, 1.840896542522563, 1.840896542522563, 1.840896542522563, 1.840896542522563, 1.840896542522563, 1.840896542522563, 1.840896542522563, 1.840896542522563, 1.840896542522563, 1.840896542522563, 1.840896542522563, 1.840896542522563, 1.840896542522563, 1.840896542522563, 1.840896542522563, 1.840896542522563, 1.840896542522563, 1.840896542522563, 1.840896542522563, 1.840896542522563, 1.840896542522563, 1.840896542522563, 1.840896542522563, 1.840896542522563, 1.8409027160584914, 1.8409027160584914, 1.8409027160584914, 1.8409027160584914, 1.8409027160584914, 1.8409027160584914, 1.8409027160584914, 1.8409027160584914, 1.8409027160584914, 1.8409027160584914, 1.8409027160584914, 1.8409027160584914, 1.8409027160584914, 1.8409027160584914, 1.8409027160584914, 1.8409027160584914, 1.8409027160584914, 1.8409027160584914, 1.8409027160584914, 1.8409027160584914, 1.8409027160584914, 1.8409027160584914, 1.8409027160584914, 1.8409027160584914, 1.8409027160584914, 1.8409027160584914, 1.8409027160584914, 1.8409027160584914, 1.8409027160584914, 1.8409027160584914, 1.8409027853264701, 1.8409027853264701, 1.8409027853264701, 1.8409027853264701, 1.8409030213156188, 1.8409030213156188, 1.8409030213156188, 1.8409030213156188, 1.8409030213156188, 1.8409030213156188, 1.8409030213156188, 1.8409030213156188, 1.8409030213156188, 1.8409030213156188, 1.8409030213156188, 1.8409030213156188, 1.8409030213156188, 1.8409030213156188, 1.8409030213156188, 1.8409030213156188, 1.8409042879230142, 1.8409042879230142, 1.8409042879230142, 1.8409042879230142, 1.8409042879230142, 1.8409042879230142, 1.8409042879230142, 1.8409042879230142, 1.8409042879230142, 1.8409042879230142, 1.8409042879230142, 1.8409042879230142, 1.8409042879230142, 1.8409042879230142, 1.8409042879230142, 1.8409042879230142, 1.8409042879230142, 1.8409042879230142, 1.8409042879230142, 1.8409042879230142, 1.8409042879230142, 1.8409042879230142, 1.8409042879230142, 1.8409042879230142, 1.8409042879230142, 1.8409042879230142, 1.8409042879230142, 1.8409042879230142, 1.8409042879230142, 1.8409042879230142, 1.8409042879230142, 1.8409042879230142, 1.8409042879230142, 1.8409042879230142, 1.840904507620425, 1.840904507620425, 1.840904507620425, 1.840904507620425, 1.840904507620425, 1.840904507620425, 1.840904507620425, 1.840904507620425, 1.840904507620425, 1.840904507620425, 1.840904507620425, 1.840904507620425, 1.840904507620425, 1.840904507620425, 1.840904507620425, 1.840904507620425, 1.840904507620425, 1.840904507620425, 1.840904507620425, 1.840904507620425, 1.840904507620425, 1.840904507620425, 1.840904507620425, 1.840904507620425, 1.840904507620425, 1.840904507620425, 1.840904507620425, 1.840904507620425, 1.840904507620425, 1.840904507620425, 1.840904507620425, 1.840904507620425, 1.840904507620425, 1.840904507620425, 1.840904507620425, 1.840904507620425, 1.840904507620425, 1.840904507620425, 1.840904507620425, 1.840904507620425, 1.840904507620425, 1.840904507620425, 1.840904507620425, 1.840904507620425, 1.840904507620425, 1.840904507620425, 1.840904507620425, 1.840904507620425, 1.840904507620425, 1.840904507620425, 1.840904507620425, 1.840904507620425, 1.840904507620425, 1.840904507620425, 1.840904507620425, 1.840904507620425, 1.840904507620425, 1.840904507620425, 1.840904507620425, 1.840904507620425, 1.840904507620425, 1.840904507620425, 1.840904507620425, 1.840904507620425, 1.840904507620425, 1.840904507620425, 1.840904507620425, 1.840904507620425, 1.840904507620425, 1.840904507620425, 1.840904507620425, 1.840904507620425, 1.840904507620425, 1.840904507620425, 1.840904507620425, 1.840904507620425, 1.840904507620425, 1.840904507620425, 1.840904507620425, 1.840904507620425, 1.840904507620425, 1.840904507620425, 1.840904507620425, 1.840904507620425, 1.840904507620425, 1.840904507620425, 1.840904507620425, 1.840904507620425, 1.840904507620425, 1.840904507620425, 1.840904507620425, 1.840904507620425, 1.840904507620425, 1.840904507620425, 1.840904507620425, 1.840904507620425, 1.840904507620425, 1.840904507620425, 1.840904507620425, 1.840904507620425, 1.840904507620425, 1.840904507620425, 1.840904507620425, 1.840904507620425, 1.840904507620425, 1.840904507620425, 1.8409045870139236, 1.8409045870139236, 1.8409045870139236, 1.8409045870139236, 1.8409045870139236, 1.8409045870139236, 1.8409045870139236, 1.8409045870139236, 1.8409045870139236, 1.8409045870139236, 1.8409045870139236, 1.8409045870139236, 1.8409045870139236, 1.8409045870139236, 1.8409045870139236, 1.8409045870139236, 1.8409045870139236, 1.8409045870139236, 1.8409045870139236, 1.8409045870139236, 1.8409045870139236, 1.8409045870139236, 1.8409045870139236, 1.8409045870139236, 1.8409045870139236, 1.8409046585789992, 1.8409046585789992, 1.8409046585789992, 1.8409046585789992, 1.8409046585789992, 1.8409046585789992, 1.840904978302237, 1.840904978302237, 1.8409050510362812, 1.8409050510362812, 1.8409050510362812, 1.8409050510362812, 1.8409050510362812, 1.8409050510362812, 1.8409050510362812, 1.8409050510362812, 1.8409050510362812, 1.8409050510362812, 1.8409050510362812, 1.8409050510362812, 1.8409050510362812, 1.8409050510362812, 1.8409050510362812, 1.8409050510362812, 1.8409050510362812, 1.8409050510362812, 1.8409050510362812, 1.8409050510362812, 1.8409050510362812, 1.8409050510362812, 1.8409050510362812, 1.8409050510362812, 1.8409050510362812, 1.8409050510362812, 1.8409050510362812, 1.8409050510362812, 1.8409050510362812, 1.8409050510362812, 1.8409050510362812, 1.8409050510362812, 1.8409050510362812, 1.8409050510362812, 1.8409050510362812, 1.8409050510362812, 1.8409050510362812, 1.8409050510362812, 1.8409050510362812, 1.8409050510362812, 1.8409050510362812, 1.8409050510362812, 1.8409050510362812, 1.8409050510362812, 1.8409050510362812, 1.8409050510362812, 1.8409050510362812, 1.8409050510362812, 1.8409050510362812, 1.8409050510362812, 1.8409050510362812, 1.8409050510362812, 1.8409050510362812, 1.8409050510362812, 1.8409050510362812, 1.8409050510362812, 1.8409050510362812, 1.8409050510362812, 1.8409050510362812, 1.8409050510362812, 1.8409050510362812, 1.8409050510362812, 1.8409050510362812, 1.8409050510362812, 1.8409050510362812, 1.8409050510362812, 1.8409050510362812, 1.8409050510362812, 1.8409050510362812, 1.8409050510362812, 1.8409050510362812, 1.8409050510362812, 1.8409050510362812, 1.8409050510362812, 1.8409050510362812, 1.8409050510362812, 1.8409050510362812, 1.8409050510362812, 1.8409050510362812, 1.8409050510362812, 1.8409050510362812, 1.8409050510362812, 1.8409050510362812, 1.8409050510362812, 1.8409050510362812, 1.8409050510362812, 1.8409050510362812, 1.8409050510362812, 1.8409050510362812, 1.8409050510362812, 1.8409050510362812, 1.8409050510362812, 1.8409050510362812, 1.8409050510362812, 1.8409050510362812, 1.8409050510362812, 1.8409050510362812, 1.8409050510362812, 1.8409050510362812, 1.8409050510362812, 1.8409050510362812, 1.8409050510362812, 1.8409052650557394, 1.8409052650557394, 1.8409052650557394, 1.8409052650557394, 1.8409052650557394, 1.8409052650557394, 1.8409052650557394, 1.8409052650557394, 1.8409052650557394, 1.8409052650557394, 1.8409052650557394, 1.8409052650557394, 1.8409052650557394, 1.8409052650557394, 1.8409052650557394, 1.8409052650557394, 1.8409052650557394, 1.8409052650557394, 1.8409052650557394, 1.8409052650557394, 1.8409052650557394, 1.8409052650557394, 1.8409052650557394, 1.840907877278625, 1.840907877278625, 1.840907877278625, 1.840907877278625, 1.840907877278625, 1.840907877278625, 1.840907877278625, 1.840907877278625, 1.840907877278625, 1.840907877278625, 1.840907877278625, 1.840907877278625, 1.840907877278625, 1.840907877278625, 1.840907877278625, 1.840907877278625, 1.840907877278625, 1.840907877278625, 1.840907877278625, 1.840907877278625, 1.840907877278625, 1.840907877278625, 1.840907877278625, 1.840907877278625, 1.840907877278625, 1.840907877278625, 1.840907877278625, 1.840907877278625, 1.840907877278625, 1.840907877278625, 1.840907877278625, 1.840907877278625, 1.840907877278625, 1.840907877278625, 1.840907877278625, 1.840907877278625, 1.840907877278625, 1.840907877278625, 1.840907877278625, 1.840907877278625, 1.840907877278625, 1.840907877278625, 1.840907877278625, 1.840907877278625, 1.840907877278625, 1.840907877278625, 1.840907877278625, 1.840907877278625, 1.840907877278625, 1.840907877278625, 1.840907877278625, 1.840907877278625, 1.840907877278625, 1.840907877278625, 1.840907877278625, 1.840907877278625, 1.840907877278625, 1.840907877278625, 1.840907877278625, 1.840907877278625, 1.840907877278625, 1.840907877278625, 1.840907877278625, 1.840907877278625, 1.840907877278625, 1.840907877278625, 1.840907877278625, 1.840907877278625, 1.840907877278625, 1.840907877278625, 1.840907877278625, 1.840907877278625, 1.840907877278625, 1.840907877278625, 1.840907877278625, 1.840907877278625, 1.840907877278625, 1.840907877278625, 1.840907877278625, 1.840907877278625, 1.840907877278625, 1.840907877278625, 1.840907877278625, 1.840907877278625, 1.840907877278625, 1.840907877278625, 1.840907877278625, 1.840907877278625, 1.840907877278625, 1.840907877278625, 1.840907877278625, 1.840907877278625, 1.840907877278625, 1.840907877278625, 1.840907877278625, 1.840907877278625, 1.840907877278625, 1.840907877278625, 1.840907877278625, 1.840907877278625, 1.840907877278625, 1.840907877278625, 1.840907877278625, 1.840907877278625, 1.840907877278625, 1.840907877278625, 1.840907877278625, 1.840907877278625, 1.840907877278625, 1.840907877278625, 1.840907877278625, 1.840907877278625, 1.840907877278625, 1.840907877278625, 1.840907877278625, 1.840907877278625, 1.840907877278625, 1.840907877278625, 1.840907877278625, 1.840907877278625, 1.840907877278625, 1.840907877278625, 1.840907877278625, 1.840907877278625, 1.840907877278625, 1.840907877278625, 1.840907877278625, 1.840907877278625, 1.840907877278625, 1.840907877278625, 1.840907877278625, 1.840907877278625, 1.840907877278625, 1.840907877278625, 1.840907877278625, 1.840907877278625, 1.840907877278625, 1.840907877278625, 1.840907877278625, 1.840907877278625, 1.840907877278625, 1.840907877278625, 1.840907877278625, 1.840907877278625, 1.840907877278625, 1.840907877278625, 1.840907877278625, 1.840907877278625, 1.840907877278625, 1.840907877278625, 1.840907877278625, 1.840907877278625, 1.840907877278625, 1.840907877278625, 1.840907877278625, 1.840907877278625, 1.840907877278625, 1.840907877278625, 1.840907877278625, 1.840907877278625, 1.840907877278625, 1.840907877278625, 1.840907877278625, 1.840907877278625, 1.840907877278625, 1.840907877278625, 1.840907877278625, 1.8409079420625956, 1.8409079420625956, 1.8409079420625956, 1.8409079420625956, 1.8409079614425996, 1.8409079614425996, 1.8409079614425996, 1.8409079614425996, 1.8409079614425996, 1.8409079614425996, 1.8409079614425996, 1.8409079614425996, 1.8409079614425996, 1.8409079614425996, 1.8409079614425996, 1.8409079614425996, 1.8409079614425996, 1.8409079614425996, 1.8409079614425996, 1.8409079614425996, 1.8409079614425996, 1.8409079614425996, 1.8409079614425996, 1.8409079614425996, 1.8409079614425996, 1.8409079614425996, 1.8409079614425996, 1.8409079614425996, 1.8409079614425996, 1.8409079614425996, 1.8409079614425996, 1.8409079614425996, 1.8409079614425996, 1.8409079614425996, 1.8409079614425996, 1.8409079614425996, 1.8409079614425996, 1.8409079614425996, 1.8409079614425996, 1.8409079614425996, 1.8409079614425996, 1.8409079614425996, 1.8409079614425996, 1.8409079614425996, 1.8409079614425996, 1.8409079614425996, 1.8409079614425996, 1.8409079614425996, 1.8409079614425996, 1.8409082419865392, 1.8409082419865392, 1.8409082419865392, 1.8409082419865392, 1.8409082419865392, 1.8409082419865392, 1.8409082419865392, 1.8409082419865392, 1.8409082419865392, 1.8409082419865392, 1.8409082419865392, 1.8409082419865392, 1.8409082419865392, 1.8409082419865392, 1.8409082419865392, 1.8409082419865392, 1.8409082419865392, 1.8409082419865392, 1.8409082419865392, 1.8409082419865392, 1.8409082419865392, 1.8409082419865392, 1.8409082419865392, 1.8409082419865392, 1.8409082419865392, 1.8409082419865392, 1.8409082419865392, 1.8409082419865392, 1.8409082419865392, 1.8409082419865392, 1.8409082419865392, 1.8409082419865392, 1.8409082419865392, 1.8409082419865392, 1.8409082419865392, 1.8409082419865392, 1.8409082419865392, 1.8409082419865392, 1.8409082419865392, 1.8409082419865392, 1.8409082419865392, 1.8409082419865392, 1.8409082419865392, 1.8409082419865392, 1.8409082419865392, 1.8409082419865392, 1.8409082419865392, 1.8409082419865392, 1.8409082419865392, 1.8409082419865392, 1.8409082419865392, 1.8409082419865392, 1.8409082419865392, 1.8409082419865392, 1.8409082419865392, 1.8409082419865392, 1.8409082419865392, 1.8409082419865392, 1.8409082419865392, 1.8409082419865392, 1.8409082419865392, 1.8409082419865392, 1.8409082419865392, 1.8409082419865392, 1.840908242120184, 1.840908242120184, 1.840908242120184, 1.840908242120184, 1.840908242120184, 1.840908242120184, 1.840908242120184, 1.840908242120184, 1.840908242120184, 1.840908242120184, 1.840908242120184, 1.840908242120184, 1.840908242120184, 1.840908242120184, 1.840908242120184, 1.840908242120184, 1.840908242120184, 1.840908242120184, 1.840908242120184, 1.840908242120184, 1.840908242120184, 1.840908242120184, 1.840908242120184, 1.840908242120184, 1.840908242120184, 1.840908242120184, 1.840908242120184, 1.840908242120184, 1.840908242120184, 1.840908242120184, 1.840908242120184, 1.840908242120184, 1.840908242120184, 1.840908242120184, 1.840908242120184, 0]\n"
     ]
    }
   ],
   "source": [
    "print(evolution_curve)"
   ]
  }
 ],
 "metadata": {
  "kernelspec": {
   "display_name": "Python 3",
   "language": "python",
   "name": "python3"
  },
  "language_info": {
   "codemirror_mode": {
    "name": "ipython",
    "version": 3
   },
   "file_extension": ".py",
   "mimetype": "text/x-python",
   "name": "python",
   "nbconvert_exporter": "python",
   "pygments_lexer": "ipython3",
   "version": "3.10.6"
  },
  "orig_nbformat": 4
 },
 "nbformat": 4,
 "nbformat_minor": 2
}
